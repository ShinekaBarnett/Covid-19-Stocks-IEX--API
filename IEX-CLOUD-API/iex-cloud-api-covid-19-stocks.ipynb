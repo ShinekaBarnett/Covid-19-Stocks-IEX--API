{
 "cells": [
  {
   "cell_type": "code",
   "execution_count": 13,
   "id": "543911f2",
   "metadata": {},
   "outputs": [],
   "source": [
    "import requests\n",
    "import numpy as np\n",
    "import pandas as pd\n",
    "import math\n",
    "import time\n",
    "import matplotlib.pyplot as plt"
   ]
  },
  {
   "cell_type": "code",
   "execution_count": 2,
   "id": "b499b596",
   "metadata": {},
   "outputs": [
    {
     "name": "stdout",
     "output_type": "stream",
     "text": [
      "read file successfully\n"
     ]
    }
   ],
   "source": [
    "try:\n",
    "    IEX_CLOUD_API_TOKEN = open('iexcloud_apikey.txt').read()\n",
    "    print(\"read file successfully\")\n",
    "except:\n",
    "    print(\"error in reading file\")"
   ]
  },
  {
   "cell_type": "code",
   "execution_count": 3,
   "id": "21054506",
   "metadata": {},
   "outputs": [],
   "source": [
    "symbol = 'AAPL'\n",
    "api_url = f'https://cloud.iexapis.com/stable/stock/{symbol}/quote?token={IEX_CLOUD_API_TOKEN}'\n"
   ]
  },
  {
   "cell_type": "code",
   "execution_count": 4,
   "id": "1e94fe5c",
   "metadata": {},
   "outputs": [
    {
     "data": {
      "text/plain": [
       "{'avgTotalVolume': 66755116,\n",
       " 'calculationPrice': 'iexlasttrade',\n",
       " 'change': -2.57,\n",
       " 'changePercent': -0.01476,\n",
       " 'close': None,\n",
       " 'closeSource': 'official',\n",
       " 'closeTime': None,\n",
       " 'companyName': 'Apple Inc',\n",
       " 'currency': 'USD',\n",
       " 'delayedPrice': None,\n",
       " 'delayedPriceTime': None,\n",
       " 'extendedChange': None,\n",
       " 'extendedChangePercent': None,\n",
       " 'extendedPrice': None,\n",
       " 'extendedPriceTime': None,\n",
       " 'high': None,\n",
       " 'highSource': None,\n",
       " 'highTime': None,\n",
       " 'iexAskPrice': 0,\n",
       " 'iexAskSize': 0,\n",
       " 'iexBidPrice': 0,\n",
       " 'iexBidSize': 0,\n",
       " 'iexClose': 171.58,\n",
       " 'iexCloseTime': 1660939199287,\n",
       " 'iexLastUpdated': 1660939199287,\n",
       " 'iexMarketPercent': 0.020048581896145765,\n",
       " 'iexOpen': 173.145,\n",
       " 'iexOpenTime': 1660915800001,\n",
       " 'iexRealtimePrice': 171.58,\n",
       " 'iexRealtimeSize': 200,\n",
       " 'iexVolume': 1405789,\n",
       " 'lastTradeTime': 1660939199942,\n",
       " 'latestPrice': 171.58,\n",
       " 'latestSource': 'IEX Last Trade',\n",
       " 'latestTime': 'August 19, 2022',\n",
       " 'latestUpdate': 1660939199287,\n",
       " 'latestVolume': None,\n",
       " 'low': None,\n",
       " 'lowSource': None,\n",
       " 'lowTime': None,\n",
       " 'marketCap': 2757419628160,\n",
       " 'oddLotDelayedPrice': None,\n",
       " 'oddLotDelayedPriceTime': None,\n",
       " 'open': None,\n",
       " 'openTime': None,\n",
       " 'openSource': 'official',\n",
       " 'peRatio': 28.36,\n",
       " 'previousClose': 174.15,\n",
       " 'previousVolume': 62290075,\n",
       " 'primaryExchange': 'NASDAQ',\n",
       " 'symbol': 'AAPL',\n",
       " 'volume': None,\n",
       " 'week52High': 182.19,\n",
       " 'week52Low': 128.86,\n",
       " 'ytdChange': -0.03629493984896926,\n",
       " 'isUSMarketOpen': False}"
      ]
     },
     "execution_count": 4,
     "metadata": {},
     "output_type": "execute_result"
    }
   ],
   "source": [
    "data = requests.get(api_url).json()\n",
    "data"
   ]
  },
  {
   "cell_type": "code",
   "execution_count": 5,
   "id": "d1da97ad",
   "metadata": {},
   "outputs": [
    {
     "name": "stdout",
     "output_type": "stream",
     "text": [
      "Latest Price =  171.58\n"
     ]
    }
   ],
   "source": [
    "print('Latest Price = ', data['latestPrice'])\n"
   ]
  },
  {
   "cell_type": "code",
   "execution_count": 6,
   "id": "0a296a8c",
   "metadata": {},
   "outputs": [
    {
     "data": {
      "text/html": [
       "<div>\n",
       "<style scoped>\n",
       "    .dataframe tbody tr th:only-of-type {\n",
       "        vertical-align: middle;\n",
       "    }\n",
       "\n",
       "    .dataframe tbody tr th {\n",
       "        vertical-align: top;\n",
       "    }\n",
       "\n",
       "    .dataframe thead th {\n",
       "        text-align: right;\n",
       "    }\n",
       "</style>\n",
       "<table border=\"1\" class=\"dataframe\">\n",
       "  <thead>\n",
       "    <tr style=\"text-align: right;\">\n",
       "      <th></th>\n",
       "      <th>Ticker</th>\n",
       "      <th>Company Name</th>\n",
       "      <th>Price</th>\n",
       "      <th>Market capitalization</th>\n",
       "      <th>PE Ratio</th>\n",
       "    </tr>\n",
       "  </thead>\n",
       "  <tbody>\n",
       "  </tbody>\n",
       "</table>\n",
       "</div>"
      ],
      "text/plain": [
       "Empty DataFrame\n",
       "Columns: [Ticker, Company Name, Price, Market capitalization, PE Ratio]\n",
       "Index: []"
      ]
     },
     "execution_count": 6,
     "metadata": {},
     "output_type": "execute_result"
    }
   ],
   "source": [
    "selected_columns = ['Ticker', 'Company Name', 'Price', 'Market capitalization', 'PE Ratio']\n",
    "df = pd.DataFrame(columns = selected_columns)\n",
    "df"
   ]
  },
  {
   "cell_type": "code",
   "execution_count": 48,
   "id": "2f788838",
   "metadata": {},
   "outputs": [
    {
     "data": {
      "text/html": [
       "<div>\n",
       "<style scoped>\n",
       "    .dataframe tbody tr th:only-of-type {\n",
       "        vertical-align: middle;\n",
       "    }\n",
       "\n",
       "    .dataframe tbody tr th {\n",
       "        vertical-align: top;\n",
       "    }\n",
       "\n",
       "    .dataframe thead th {\n",
       "        text-align: right;\n",
       "    }\n",
       "</style>\n",
       "<table border=\"1\" class=\"dataframe\">\n",
       "  <thead>\n",
       "    <tr style=\"text-align: right;\">\n",
       "      <th></th>\n",
       "      <th>Ticker</th>\n",
       "      <th>Company Name</th>\n",
       "      <th>Price</th>\n",
       "      <th>Market capitalization</th>\n",
       "      <th>PE Ratio</th>\n",
       "    </tr>\n",
       "  </thead>\n",
       "  <tbody>\n",
       "    <tr>\n",
       "      <th>0</th>\n",
       "      <td>JNJ</td>\n",
       "      <td>Johnson &amp; Johnson</td>\n",
       "      <td>169.31</td>\n",
       "      <td>445146448022</td>\n",
       "      <td>24.64</td>\n",
       "    </tr>\n",
       "    <tr>\n",
       "      <th>1</th>\n",
       "      <td>MRNA</td>\n",
       "      <td>Moderna Inc</td>\n",
       "      <td>146.11</td>\n",
       "      <td>58116643029</td>\n",
       "      <td>4.44</td>\n",
       "    </tr>\n",
       "    <tr>\n",
       "      <th>2</th>\n",
       "      <td>NVAX</td>\n",
       "      <td>Novavax, Inc.</td>\n",
       "      <td>36.26</td>\n",
       "      <td>2833160415</td>\n",
       "      <td>-1.90</td>\n",
       "    </tr>\n",
       "    <tr>\n",
       "      <th>3</th>\n",
       "      <td>PFE</td>\n",
       "      <td>Pfizer Inc.</td>\n",
       "      <td>49.15</td>\n",
       "      <td>275847091412</td>\n",
       "      <td>9.62</td>\n",
       "    </tr>\n",
       "  </tbody>\n",
       "</table>\n",
       "</div>"
      ],
      "text/plain": [
       "  Ticker       Company Name   Price  Market capitalization  PE Ratio\n",
       "0    JNJ  Johnson & Johnson  169.31           445146448022     24.64\n",
       "1   MRNA        Moderna Inc  146.11            58116643029      4.44\n",
       "2   NVAX      Novavax, Inc.   36.26             2833160415     -1.90\n",
       "3    PFE        Pfizer Inc.   49.15           275847091412      9.62"
      ]
     },
     "execution_count": 48,
     "metadata": {},
     "output_type": "execute_result"
    }
   ],
   "source": [
    "tickers = ['JNJ','MRNA','NVAX','PFE']\n",
    "for i,symbol in enumerate(tickers):\n",
    "    api_url = f'https://cloud.iexapis.com/stable/stock/{symbol}/quote?token={IEX_CLOUD_API_TOKEN}'\n",
    "    data = requests.get(api_url).json()\n",
    "    df.loc[i] = [f'{symbol}',data['companyName'],data['latestPrice'],data['marketCap'],data['peRatio']]\n",
    "df"
   ]
  },
  {
   "cell_type": "code",
   "execution_count": 12,
   "id": "b77e7aff",
   "metadata": {},
   "outputs": [
    {
     "data": {
      "text/html": [
       "<div>\n",
       "<style scoped>\n",
       "    .dataframe tbody tr th:only-of-type {\n",
       "        vertical-align: middle;\n",
       "    }\n",
       "\n",
       "    .dataframe tbody tr th {\n",
       "        vertical-align: top;\n",
       "    }\n",
       "\n",
       "    .dataframe thead th {\n",
       "        text-align: right;\n",
       "    }\n",
       "</style>\n",
       "<table border=\"1\" class=\"dataframe\">\n",
       "  <thead>\n",
       "    <tr style=\"text-align: right;\">\n",
       "      <th></th>\n",
       "      <th>Ticker</th>\n",
       "      <th>Company Name</th>\n",
       "      <th>Price</th>\n",
       "      <th>Market capitalization</th>\n",
       "      <th>PE Ratio</th>\n",
       "    </tr>\n",
       "  </thead>\n",
       "  <tbody>\n",
       "    <tr>\n",
       "      <th>2</th>\n",
       "      <td>NVAX</td>\n",
       "      <td>Novavax, Inc.</td>\n",
       "      <td>36.26</td>\n",
       "      <td>2833160415</td>\n",
       "      <td>-1.90</td>\n",
       "    </tr>\n",
       "    <tr>\n",
       "      <th>1</th>\n",
       "      <td>MRNA</td>\n",
       "      <td>Moderna Inc</td>\n",
       "      <td>146.11</td>\n",
       "      <td>58116643029</td>\n",
       "      <td>4.44</td>\n",
       "    </tr>\n",
       "    <tr>\n",
       "      <th>3</th>\n",
       "      <td>PFE</td>\n",
       "      <td>Pfizer Inc.</td>\n",
       "      <td>49.15</td>\n",
       "      <td>275847091412</td>\n",
       "      <td>9.62</td>\n",
       "    </tr>\n",
       "    <tr>\n",
       "      <th>0</th>\n",
       "      <td>JNJ</td>\n",
       "      <td>Johnson &amp; Johnson</td>\n",
       "      <td>169.31</td>\n",
       "      <td>445146448022</td>\n",
       "      <td>24.64</td>\n",
       "    </tr>\n",
       "  </tbody>\n",
       "</table>\n",
       "</div>"
      ],
      "text/plain": [
       "  Ticker       Company Name   Price  Market capitalization  PE Ratio\n",
       "2   NVAX      Novavax, Inc.   36.26             2833160415     -1.90\n",
       "1   MRNA        Moderna Inc  146.11            58116643029      4.44\n",
       "3    PFE        Pfizer Inc.   49.15           275847091412      9.62\n",
       "0    JNJ  Johnson & Johnson  169.31           445146448022     24.64"
      ]
     },
     "execution_count": 12,
     "metadata": {},
     "output_type": "execute_result"
    }
   ],
   "source": [
    "df.sort_values(\"PE Ratio\")"
   ]
  },
  {
   "cell_type": "code",
   "execution_count": 60,
   "id": "0fca96ea",
   "metadata": {},
   "outputs": [
    {
     "name": "stdout",
     "output_type": "stream",
     "text": [
      "0    Johnson & Johnson\n",
      "1          Moderna Inc\n",
      "2        Novavax, Inc.\n",
      "3          Pfizer Inc.\n",
      "Name: Company Name, dtype: object\n"
     ]
    }
   ],
   "source": [
    "print(df['Company Name'])"
   ]
  },
  {
   "cell_type": "code",
   "execution_count": 61,
   "id": "59fbdc4a",
   "metadata": {},
   "outputs": [
    {
     "data": {
      "text/plain": [
       "<matplotlib.legend.Legend at 0x13b33b040>"
      ]
     },
     "execution_count": 61,
     "metadata": {},
     "output_type": "execute_result"
    },
    {
     "data": {
      "image/png": "[encoded data removed]",
      "text/plain": [
       "<Figure size 504x504 with 1 Axes>"
      ]
     },
     "metadata": {},
     "output_type": "display_data"
    }
   ],
   "source": [
    "plt = df.plot.pie(y='Market capitalization', figsize=(7,7))\n",
    "plt.set_title('Market Capitalization of Covid-19 Vaccines Stock')\n",
    "plt.legend(labels = df['Company Name'])\n"
   ]
  },
  {
   "cell_type": "code",
   "execution_count": 67,
   "id": "28eb5dd6",
   "metadata": {},
   "outputs": [
    {
     "data": {
      "text/plain": [
       "<matplotlib.legend.Legend at 0x13b5b2110>"
      ]
     },
     "execution_count": 67,
     "metadata": {},
     "output_type": "execute_result"
    },
    {
     "data": {
      "image/png": "[encoded data removed]",
      "text/plain": [
       "<Figure size 504x504 with 1 Axes>"
      ]
     },
     "metadata": {},
     "output_type": "display_data"
    }
   ],
   "source": [
    "plt = df.plot.pie(y='Price', figsize=(7,7))\n",
    "plt.set_title('Stock Price of Covid-19 Vaccines')\n",
    "plt.legend(labels = df['Company Name'])"
   ]
  },
  {
   "cell_type": "code",
   "execution_count": null,
   "id": "c7fb816c",
   "metadata": {},
   "outputs": [],
   "source": []
  }
 ],
 "metadata": {
  "kernelspec": {
   "display_name": "Python 3 (ipykernel)",
   "language": "python",
   "name": "python3"
  },
  "language_info": {
   "codemirror_mode": {
    "name": "ipython",
    "version": 3
   },
   "file_extension": ".py",
   "mimetype": "text/x-python",
   "name": "python",
   "nbconvert_exporter": "python",
   "pygments_lexer": "ipython3",
   "version": "3.10.6"
  }
 },
 "nbformat": 4,
 "nbformat_minor": 5
}
